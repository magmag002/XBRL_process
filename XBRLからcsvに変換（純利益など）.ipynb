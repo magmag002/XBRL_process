{
 "cells": [
  {
   "cell_type": "code",
   "execution_count": 1,
   "id": "da616c27",
   "metadata": {},
   "outputs": [],
   "source": [
    "import numpy as np\n",
    "import pandas as pd\n",
    "import matplotlib.pylab as plt\n",
    "import math\n",
    "import csv\n",
    "\n",
    "#選択行削除\n",
    "import re\n",
    "from xml.sax.saxutils import unescape"
   ]
  },
  {
   "cell_type": "code",
   "execution_count": 3,
   "id": "1ee1bfb6",
   "metadata": {},
   "outputs": [],
   "source": [
    "def normalize_XBRL(XBRL):\n",
    "    with open(XBRL, encoding='utf-8') as f:\n",
    "        html = f.read()\n",
    "    # 「（」「）」はすべて半角に\n",
    "    html = html.replace(\"（\", \"(\")\n",
    "    html = html.replace(\"）\", \")\")\n",
    "    #tableタグだけ残す，それ以外のタグで囲まれていない部分を削除\n",
    "    html  = re.sub(\"<table\", \"table\\n<\", html)\n",
    "    html  = re.sub(\"</table\", \"tableend\\n<\", html)\n",
    "    html  = re.sub(\"<br />\", \"\", html)\n",
    "    html  = re.sub(\"<td\", \"td<\", html)\n",
    "    html  = re.sub(\"</td>\", \"tdend\\n\", html)\n",
    "    html  = re.sub(\"</tr>\", \"trend\", html)\n",
    "    \n",
    "    text=\"\"\n",
    "    for i in html:\n",
    "        text=text+i\n",
    "        if i ==\">\":\n",
    "            text=re.sub(\"<.*>\", \"\", text)\n",
    "            text=re.sub(\"{.*}\", \"\", text)\n",
    "            if text[-1:]!=\"\\n\":\n",
    "                text = text+\"\\n\"\n",
    "    text1=text\n",
    "\n",
    "    #テキスト処理\n",
    "    text1=re.sub(\"&#160;\", \"None\", text1)\n",
    "    text1=re.sub(\"△\\n\", \"-\", text1)\n",
    "    text1=re.sub(\"△\", \"-\", text1)\n",
    "    text1=re.sub(\".root\", \"-\", text1)\n",
    "    text1=re.sub(\",\", \"\", text1)\n",
    "    text1=re.sub(\"．\", \".\", text1)\n",
    "    text1=re.sub(\"\\ufeff\\n\", \"\", text1)\n",
    "    text1=re.sub(\"－\", \"None\", text1)\n",
    "    text1=re.sub(\"：\", \"\", text1)\n",
    "    text1=re.sub(\" \", \"\", text1)\n",
    "    text1=re.sub(\"\\n\\n\", \"\\n\", text1)\n",
    "    text1=re.sub(\"　\", \"\", text1)\n",
    "    text1=re.sub(\"０\", \"0\", text1)\n",
    "    text1=re.sub(\"１\", \"1\", text1)\n",
    "    text1=re.sub(\"２\", \"2\", text1)\n",
    "    text1=re.sub(\"３\", \"3\", text1)\n",
    "    text1=re.sub(\"４\", \"4\", text1)\n",
    "    text1=re.sub(\"５\", \"5\", text1)\n",
    "    text1=re.sub(\"６\", \"6\", text1)\n",
    "    text1=re.sub(\"７\", \"7\", text1)\n",
    "    text1=re.sub(\"８\", \"8\", text1)\n",
    "    text1=re.sub(\"９\", \"9\", text1)\n",
    "    \n",
    "\n",
    "    return(text1)"
   ]
  },
  {
   "cell_type": "code",
   "execution_count": 4,
   "id": "78d6e8e4",
   "metadata": {},
   "outputs": [],
   "source": [
    "def text_tag(text):\n",
    "    #予測がいつまでなのかを取得(基本的に　３．　OO年度連結業績予測などになっているため，それを元に取得)\n",
    "    pre_cnt=0\n",
    "    pre = \"\"\n",
    "    for i in range(len(text),-1,-1):\n",
    "        if \"連結業績予想(\" in text[i-7:i]:\n",
    "            pre_cnt=i\n",
    "            break\n",
    "    for i in range(pre_cnt,-1,-1):\n",
    "        if \".\" in text[i-1:i]:\n",
    "            pre = text[i:pre_cnt-1]\n",
    "            break\n",
    "\n",
    "    #tdで囲まれた部分の改行は削除して，tdを削除\n",
    "    tx=\"\"\n",
    "    text1=\"\"\n",
    "    td_flag=False\n",
    "    for i in text:\n",
    "        #print(i)\n",
    "        if \"tdend\" in text1:\n",
    "            td_flag=False\n",
    "        if \"td\" in text1:\n",
    "            td_flag=True\n",
    "\n",
    "        if td_flag:\n",
    "            if i==\"\\n\":\n",
    "                i=\"\"\n",
    "        text1+=i\n",
    "    text1=re.sub(\"tdend\", \"\", text1)\n",
    "    text1=re.sub(\"td\", \"\\n\", text1)\n",
    "    text1=re.sub(r\"\\n+\", \"\\n\", text1)\n",
    "    return(text1,pre)"
   ]
  },
  {
   "cell_type": "code",
   "execution_count": 5,
   "id": "1667527a",
   "metadata": {},
   "outputs": [],
   "source": [
    "def create_text_list(text):\n",
    "\n",
    "    #tableタグで囲まれた部分をリストに入れる\n",
    "    text_list = []\n",
    "    table_cnt_first=0\n",
    "    table_cnt_end=0\n",
    "    non_text_list = []\n",
    "    non_table_cnt_first=0\n",
    "    append_text=\"\"\n",
    "    non_text=\"\"\n",
    "    for i in range(1,len(text)):\n",
    "        if text[i-8:i] == \"tableend\":\n",
    "        #tableタグに囲まれた文章をlistに追加\n",
    "            table_cnt_end = i-8\n",
    "            append_text=text[table_cnt_first:table_cnt_end]+\"\\n\"\n",
    "            append_text=re.sub(\"trend\\ntrend\",\"trend\\n\",append_text)\n",
    "            append_text=re.sub(\"tableendtable\",\"\",append_text)\n",
    "            append_text=re.sub(r'\\n+', \"\\n\",append_text)\n",
    "            text_list.append(append_text)\n",
    "            table_cnt_first=0\n",
    "            table_cnt_end=0\n",
    "            #tableタグに囲まれている部分を追加したので囲まれていない部分のカウント初期化\n",
    "            non_table_cnt_first=i\n",
    "\n",
    "    #tableタグの始まりの判定    \n",
    "        elif text[i-5:i] == \"table\":\n",
    "            if table_cnt_first==0:\n",
    "                table_cnt_first=i\n",
    "\n",
    "            #tableタグに囲まれていない部分をlistに追加\n",
    "            non_text=text[non_table_cnt_first:i-5]\n",
    "            non_text_list.append(non_text)\n",
    "    \n",
    "    #listの中に（注）がある部分は削除する         \n",
    "    pop_list=[]\n",
    "    cnt=0\n",
    "    for i in text_list:\n",
    "\n",
    "        #if \"(注)\" in i :\n",
    "          #  pop_list.append(cnt)\n",
    "        if \"(参考)\" in i:\n",
    "            pop_list.append(cnt)\n",
    "        elif \"(役職名)\" in i:\n",
    "            pop_list.append(cnt)\n",
    "        cnt +=1\n",
    "\n",
    "    for i in pop_list[::-1]:\n",
    "        #print(i)\n",
    "        text_list.pop(i)\n",
    "    return(text_list,non_text_list)"
   ]
  },
  {
   "cell_type": "code",
   "execution_count": 6,
   "id": "6fa2dbb1",
   "metadata": {},
   "outputs": [],
   "source": [
    "def create_table_list(text_list,column_dic):\n",
    "    new_li=[]\n",
    "    n_cnt=0\n",
    "    col=\"\"\n",
    "    column_li=[i for i in column_dic.keys()]\n",
    "    #一番可能性が高い表をlistのトップに持ってくる\n",
    "    for cnt,table in enumerate(text_list):\n",
    "        n_cnt=0\n",
    "        col=\"\"\n",
    "        for i,word in enumerate(table,1):\n",
    "            if word==\"\\n\":\n",
    "                #columnになる可能性のある単語がcolumn辞書に存在する場合は高い確率で目的の表であると考えられる\n",
    "                col = table[n_cnt:i-1]\n",
    "                col= re.sub(\"trend\",\"\",col)\n",
    "                if col in column_li:\n",
    "                    new_li.append(table)\n",
    "                    break\n",
    "                n_cnt=i\n",
    "    return(new_li)"
   ]
  },
  {
   "cell_type": "code",
   "execution_count": 7,
   "id": "05387cff",
   "metadata": {},
   "outputs": [],
   "source": [
    "def create_list(table_list):\n",
    "    number_list = []\n",
    "    col_list=[]\n",
    "    number = []\n",
    "    col=\"\"\n",
    "    num_cnt=0\n",
    "    col_cnt=0\n",
    "    len_col=0\n",
    "    add_col=0\n",
    "    non_cnt=0\n",
    "    for table in table_list:\n",
    "        if \"table\" in table:\n",
    "            table=table[table.find(\"table\")+5:]\n",
    "        for i in range(0,len(table)):\n",
    "            if table[i:i+5] !=\"trend\":\n",
    "                if table[i:i+1] == \"\\n\":\n",
    "                    col=table[col_cnt+1:i]\n",
    "                    add_col+=1\n",
    "                    if col==\"\" and col_list!=[] and len_col==0:\n",
    "                        len_col=len(col_list)\n",
    "                    if col!=\"\":\n",
    "                        col_list.append(col)\n",
    "                    col_cnt=i\n",
    "                \n",
    "            else:\n",
    "                col=table[col_cnt+1:i]\n",
    "                col_list.append(col)\n",
    "                #追加したコラムが１つだけなら削除してやり直し\n",
    "                if add_col==1:\n",
    "                    add_col=0\n",
    "                    col_list.pop(-1)\n",
    "                    col_cnt=i+5\n",
    "                    continue\n",
    "                add_col=0\n",
    "                num_cnt=i+5\n",
    "                break\n",
    "                \n",
    "        #col_listの先頭がNoneでなければNoneを追加\n",
    "        if (col_list!=[]) and col_list[non_cnt]!=\"None\":\n",
    "            #col_list.insert(len(column),\"None\")\n",
    "            col_list.insert(non_cnt,\"None\")\n",
    "            non_cnt=len(col_list)\n",
    "            \n",
    "        #column以降にある数字の部分を回す\n",
    "        for i in range(num_cnt,len(table)+1):\n",
    "            if table[i:i+1] == \"\\n\":\n",
    "                if table[i-5:i]==\"trend\":\n",
    "                    if number!=[]:\n",
    "                        number.append(table[num_cnt+1:i-5])\n",
    "                        number_list.append(number)\n",
    "                        number=[]\n",
    "                        num_cnt=i\n",
    "\n",
    "                elif table[i-5:i]!=\"trend\":\n",
    "                    number.append(table[num_cnt+1:i])\n",
    "                    num_cnt=i\n",
    "                    \n",
    "    #[col_list.insert(k, col_list[k]) for k in range(len_col-1,-1,-1)]\n",
    "    \n",
    "    return(col_list,number_list)"
   ]
  },
  {
   "cell_type": "code",
   "execution_count": 8,
   "id": "dc7b9bf1",
   "metadata": {},
   "outputs": [],
   "source": [
    "def create_NoneAndCol(column,number):\n",
    "    #columnをNoneを起点に分ける\n",
    "    number_list=[]\n",
    "    column_list=[]\n",
    "    pop_list=[]\n",
    "    cn=1\n",
    "    for i in range(1,len(column)):\n",
    "        if column[i] ==\"None\":\n",
    "            column_list.append(column[cn:i])\n",
    "            cn=i+1\n",
    "        elif i==len(column)-1:\n",
    "            column_list.append(column[cn:i+1])\n",
    "            \n",
    "            \n",
    "    #numberにNoneを入れる\n",
    "    for cnt,num in enumerate(number):\n",
    "        #if len(num) <3:\n",
    "          #  pop_list.append(cnt)\n",
    "        if (\"円銭\" in num) or (\"百万円\" in num):\n",
    "            if \"None\" not in num:\n",
    "                num.insert(0,\"None\")\n",
    "        \n",
    "        #後々Noneがあるとエラーになるのでいらないものは削除\n",
    "        if num[0] != \"None\":\n",
    "            num[0] = re.sub(\"None\",\"\",num[0])\n",
    "        number_list.append(num)\n",
    "        \n",
    "\n",
    "    for i in pop_list[::-1]:\n",
    "        #print(i)\n",
    "        number_list.pop(i)\n",
    "    return(column_list,number_list)"
   ]
  },
  {
   "cell_type": "code",
   "execution_count": 9,
   "id": "fc1bdf40",
   "metadata": {},
   "outputs": [],
   "source": [
    "def create_index(number):\n",
    "    index_list=[[]*i for i in range(0,len(number))]\n",
    "    in_cnt=0\n",
    "    index_list[in_cnt].append(\"None\")\n",
    "\n",
    "    for i in range(1,len(number)):\n",
    "        if number[i][0]== \"None\":\n",
    "            in_cnt+=1\n",
    "            index_list[in_cnt].append(\"None\")\n",
    "        else:\n",
    "            index_list[in_cnt].append(number[i][0])\n",
    "    return(index_list)"
   ]
  },
  {
   "cell_type": "code",
   "execution_count": 10,
   "id": "788cced2",
   "metadata": {},
   "outputs": [],
   "source": [
    "def create_new_number_list(number,column_list):\n",
    "    new_num=[]\n",
    "    cn=0\n",
    "    for cnt,num in enumerate(number):\n",
    "        if num[0]== \"None\":\n",
    "            if len(new_num)!=len(column_list):\n",
    "                if len(column_list[cn])>2:\n",
    "\n",
    "                    for i in range(0,len(num),2):\n",
    "                        if i>len(column_list[cn])-1:\n",
    "                            continue\n",
    "                        if (len(num)-1) > (len(column_list[cn])):\n",
    "                            column_list[cn].insert(i,column_list[cn][i])\n",
    "\n",
    "                        else:\n",
    "                            break\n",
    "                new_num.append([column_list[cn][k]+num[k+1] for k in range(0,len(column_list[cn]))])\n",
    "                new_num[cn].insert(0,\"None\")\n",
    "                number[cnt]=new_num[cn]\n",
    "                if cn!=len(column_list)-1:\n",
    "                    cn+=1\n",
    "    \n",
    "    return(number)"
   ]
  },
  {
   "cell_type": "code",
   "execution_count": 65,
   "id": "03afc0f3",
   "metadata": {},
   "outputs": [],
   "source": [
    "def create_DataFrame(number,index_list):\n",
    "    #最大でも４つまでの表しか作成しない．目的の表は２つだけなので\n",
    "    new_df1 = pd.DataFrame\n",
    "\n",
    "    cn=1\n",
    "    num_cnt=0\n",
    "    for cnt,index in enumerate(index_list):\n",
    "        if index!=[] and cn==1:\n",
    "            new_df1=pd.DataFrame([number[k][1:] for k in range(num_cnt,len(index)+num_cnt)],index=index)\n",
    "            num_cnt+=len(index)\n",
    "            cn+=1\n",
    "    return(new_df1)"
   ]
  },
  {
   "cell_type": "code",
   "execution_count": 12,
   "id": "239f7c13",
   "metadata": {},
   "outputs": [],
   "source": [
    "def reset_column(df1,df2):\n",
    "    sh1=df1.shape\n",
    "    sh2 = df2.shape\n",
    "    #column1をリセット\n",
    "    df1.columns = range(sh1[1])\n",
    "    #column2をリセット\n",
    "    df2.columns = range(sh2[1])\n",
    "    \n",
    "    return(df1,df2)"
   ]
  },
  {
   "cell_type": "code",
   "execution_count": 13,
   "id": "0d3cbd49",
   "metadata": {},
   "outputs": [],
   "source": [
    "def reset_column1(df1):\n",
    "    sh1=df1.shape\n",
    "\n",
    "    #column1をリセット\n",
    "    df1.columns = range(sh1[1])\n",
    "\n",
    "    return(df1)"
   ]
  },
  {
   "cell_type": "code",
   "execution_count": 14,
   "id": "65ae07b8",
   "metadata": {},
   "outputs": [],
   "source": [
    "def select_df(df2,df3,df4,pre_term):\n",
    "    \n",
    "    try:\n",
    "        if (\"通期\" in str(df2.index)) or( \"予想\" in str(df2.index ))or(\"累計\" in str(df2.index)):\n",
    "            return(df2)\n",
    "        elif (\"通期\" in str(df3.index)) or( \"予想\" in str(df3.index ))or(\"累計\" in str(df3.index)): \n",
    "            return(df3)\n",
    "        elif (\"通期\" in str(df4.index)) or( \"予想\" in str(df4.index ))or(\"累計\" in str(df4.index)):\n",
    "            return(df4)\n",
    "        \n",
    "        else:\n",
    "            index_list=[]\n",
    "            index_list = [i for i in df2.index]\n",
    "            for j in index_list:\n",
    "                if pre_term[:4] in j:\n",
    "                    return(df2)\n",
    "                pass\n",
    "            \n",
    "            index_list = [i for i in df3.index]\n",
    "            for j in index_list:\n",
    "                if pre_term[:4] in j:\n",
    "                    return(df3)\n",
    "                pass\n",
    "            \n",
    "            index_list = [i for i in df4.index]\n",
    "            for j in index_list:\n",
    "                if pre_term[:4] in j:\n",
    "                    return(df4)\n",
    "                pass\n",
    "    except:\n",
    "        pass"
   ]
  },
  {
   "cell_type": "code",
   "execution_count": 15,
   "id": "9e58aced",
   "metadata": {},
   "outputs": [],
   "source": [
    "def create_df1_column(df1,column_list):\n",
    "    df1_col=[ i for i in df1.columns]\n",
    "    cnt_0 = df1_col.count(0)\n",
    "    new_col=[]\n",
    "    cnt=1\n",
    "    end=0\n",
    "    try:\n",
    "        for zero_cnt in range(0,cnt_0):\n",
    "            for i in range(cnt,len(df1_col)):\n",
    "                if df1_col[i]==0:\n",
    "                    #columnとdfの長さが同じ時（表１）\n",
    "                    if len(column_list[zero_cnt]) == i:\n",
    "                        new_col= column_list[0]\n",
    "                    #columnとdfの長さが同じ時（表２）\n",
    "                    elif (zero_cnt!=0) and (len(column_list[zero_cnt]) == i-end+1):\n",
    "                        new_col= column_list[0]\n",
    "                    else:\n",
    "                        cnt=i+1\n",
    "                        break\n",
    "                #エラーが起きないように最後になったらforを抜ける        \n",
    "                elif i==len(df1_col)-1:\n",
    "                    cnt=i+3\n",
    "                    break\n",
    "            #抜けた後，column数が同じならそのまま加える\n",
    "            if (len(column_list[zero_cnt]) == i-end+1):\n",
    "                for k in column_list[zero_cnt]:\n",
    "                    new_col.append(k)\n",
    "            else:\n",
    "                #0の手前までのcolumnを作成\n",
    "                cn=0\n",
    "                for j in range(end,cnt-1):\n",
    "                    if j %2==0:\n",
    "                        new_col.append(column_list[zero_cnt][cn])\n",
    "                    else:\n",
    "                        new_col.append(column_list[zero_cnt][cn])\n",
    "                        cn+=1\n",
    "                end=j+2\n",
    "        df1.loc[\"index\"]=new_col\n",
    "    except:\n",
    "        df1.loc[\"index\"]=new_col\n",
    "    return(df1,zero_cnt+1)\n"
   ]
  },
  {
   "cell_type": "code",
   "execution_count": 109,
   "id": "1dba7775",
   "metadata": {},
   "outputs": [],
   "source": [
    "def create_df_column(df1,column_list):\n",
    "    try:\n",
    "        df1_col=[ i for i in df1.columns]\n",
    "        new_col=[]\n",
    "        cn=0\n",
    "        for j in range(0,len(df1_col)):\n",
    "            if j %2==0:\n",
    "                new_col.append(column_list[0][cn])\n",
    "            else:\n",
    "                new_col.append(column_list[0][cn])\n",
    "                cn+=1\n",
    "        df1.loc[\"index\"]=new_col\n",
    "        return(df1)\n",
    "    except:\n",
    "        return(df1)"
   ]
  },
  {
   "cell_type": "code",
   "execution_count": 17,
   "id": "93e18d8d",
   "metadata": {},
   "outputs": [],
   "source": [
    "def check_text(text_list,non_text):\n",
    "    new_text_list=[]\n",
    "    new_text=\"\"\n",
    "\n",
    "    for txt in text_list:\n",
    "        if txt.count(\"。\")>=1:\n",
    "            new_text+=txt\n",
    "    new_text_list.append(new_text)\n",
    "    \n",
    "    new_text=\"\"\n",
    "    for txt in non_text:\n",
    "        if txt.count(\"。\")>=1:\n",
    "            new_text+=txt\n",
    "    new_text_list.append(new_text)\n",
    "    return(new_text_list)"
   ]
  },
  {
   "cell_type": "code",
   "execution_count": 18,
   "id": "1348f74c",
   "metadata": {},
   "outputs": [],
   "source": [
    "def NoPredict_or(NoPredict_text):\n",
    "    cnt=0\n",
    "    cnt=0\n",
    "    for i in NoPredict_text:\n",
    "        if (\"未定\"in i)or (\"控え\" in i) or (\"困難\" in i)or(\"M&A\" in i) or(\"コロナウイルス\" in i) or(\"合理的に算出\" in i):\n",
    "            cnt+=1\n",
    "    if cnt>0:\n",
    "        return(True)\n",
    "    else:\n",
    "        return(False)"
   ]
  },
  {
   "cell_type": "code",
   "execution_count": 59,
   "id": "2694f2d1",
   "metadata": {},
   "outputs": [],
   "source": [
    "col_dic={\n",
    "    \"総資産\":\"TotalAssets\",\n",
    "    \"純資産\":\"NetAssets\",\n",
    "    \"自己資本比率\":\"CapitalAdequacyRatio\"\n",
    "}"
   ]
  },
  {
   "cell_type": "code",
   "execution_count": 20,
   "id": "6199bcc7",
   "metadata": {},
   "outputs": [],
   "source": [
    "company = pd.read_csv(\"TDNet_full_data/new_company_list.csv\",index_col=0)"
   ]
  },
  {
   "cell_type": "code",
   "execution_count": 25,
   "id": "3e9dd3eb",
   "metadata": {},
   "outputs": [],
   "source": [
    "df = pd.read_csv(\"new2/df_sum/this/{}.csv\".format(company.index[i]),encoding=\"cp932\")"
   ]
  },
  {
   "cell_type": "code",
   "execution_count": 28,
   "id": "3df21591",
   "metadata": {},
   "outputs": [
    {
     "data": {
      "text/plain": [
       "20170619410034"
      ]
     },
     "execution_count": 28,
     "metadata": {},
     "output_type": "execute_result"
    }
   ],
   "source": [
    "df[\"number\"][0]"
   ]
  },
  {
   "cell_type": "code",
   "execution_count": 44,
   "id": "58064777",
   "metadata": {},
   "outputs": [],
   "source": [
    "path = \"xbrl_data/{}/{}.htm\".format(company.index[i],df[\"number\"][j])"
   ]
  },
  {
   "cell_type": "code",
   "execution_count": 45,
   "id": "757ce430",
   "metadata": {},
   "outputs": [
    {
     "data": {
      "text/plain": [
       "'xbrl_data/13010/20170905468428.htm'"
      ]
     },
     "execution_count": 45,
     "metadata": {},
     "output_type": "execute_result"
    }
   ],
   "source": [
    "path"
   ]
  },
  {
   "cell_type": "code",
   "execution_count": 102,
   "id": "1abefd74",
   "metadata": {},
   "outputs": [],
   "source": [
    "text=normalize_XBRL(path)\n",
    "text,pre_term = text_tag(text)\n",
    "text_list,non_text=create_text_list(text)\n",
    "NoPredict_text=check_text(text_list,non_text)\n",
    "table_list=create_table_list(text_list,col_dic)\n",
    "column,number=create_list(table_list)\n",
    "column_list,number = create_NoneAndCol(column,number)\n",
    "index_list=create_index(number)\n",
    "df=create_DataFrame(number,index_list)\n",
    "#df1,zero_cnt,=create_df1_column(df1,column_list)"
   ]
  },
  {
   "cell_type": "code",
   "execution_count": null,
   "id": "aa5927ef",
   "metadata": {},
   "outputs": [],
   "source": []
  },
  {
   "cell_type": "code",
   "execution_count": null,
   "id": "1a90ee3c",
   "metadata": {},
   "outputs": [],
   "source": []
  },
  {
   "cell_type": "code",
   "execution_count": 53,
   "id": "52314b1b",
   "metadata": {},
   "outputs": [],
   "source": [
    "import os\n",
    "def create_dic(dic):\n",
    "    #フォルダを作成する\n",
    "    try:\n",
    "        os.makedirs(dic)\n",
    "    except FileExistsError:\n",
    "        pass"
   ]
  },
  {
   "cell_type": "code",
   "execution_count": 69,
   "id": "eae98bfc",
   "metadata": {},
   "outputs": [],
   "source": [
    "import tqdm"
   ]
  },
  {
   "cell_type": "code",
   "execution_count": 82,
   "id": "23a2674a",
   "metadata": {
    "scrolled": true
   },
   "outputs": [
    {
     "name": "stderr",
     "output_type": "stream",
     "text": [
      "100%|███████████████████████████████████████| 2972/2972 [25:14<00:00,  1.96it/s]\n"
     ]
    }
   ],
   "source": [
    "out_list=[]\n",
    "for i in tqdm.tqdm(range(0,len(company.index))):\n",
    "    if not company.index[i] in non_com:\n",
    "        df = pd.read_csv(\"new2/df_sum/this/{}.csv\".format(company.index[i]),encoding=\"cp932\")\n",
    "\n",
    "        for j in range(0,len(df)):\n",
    "\n",
    "            path = \"xbrl_data/{}/{}.htm\".format(company.index[i],df[\"number\"][j])\n",
    "            out_csv='new2/xbrl_asset/{}/{}.csv'.format(company.index[i],df[\"number\"][j])\n",
    "            dic = 'new2/xbrl_asset/{}'.format(company.index[i])\n",
    "            try:\n",
    "                text=normalize_XBRL(path)\n",
    "                text,pre_term = text_tag(text)\n",
    "                text_list,non_text=create_text_list(text)\n",
    "                NoPredict_text=check_text(text_list,non_text)\n",
    "                table_list=create_table_list(text_list,col_dic)\n",
    "                column,number=create_list(table_list)\n",
    "                column_list,number = create_NoneAndCol(column,number)\n",
    "                index_list=create_index(number)\n",
    "                df1=create_DataFrame(number,index_list)\n",
    "                df1,zero_cnt,=create_df1_column(df1,column_list)\n",
    "\n",
    "                #フォルダを作成する\n",
    "                create_dic(dic)\n",
    "                df1.to_csv(out_csv)\n",
    "\n",
    "            except:\n",
    "                out_list.append(path)"
   ]
  },
  {
   "cell_type": "code",
   "execution_count": 71,
   "id": "40fc06f2",
   "metadata": {},
   "outputs": [
    {
     "data": {
      "text/html": [
       "<div>\n",
       "<style scoped>\n",
       "    .dataframe tbody tr th:only-of-type {\n",
       "        vertical-align: middle;\n",
       "    }\n",
       "\n",
       "    .dataframe tbody tr th {\n",
       "        vertical-align: top;\n",
       "    }\n",
       "\n",
       "    .dataframe thead th {\n",
       "        text-align: right;\n",
       "    }\n",
       "</style>\n",
       "<table border=\"1\" class=\"dataframe\">\n",
       "  <thead>\n",
       "    <tr style=\"text-align: right;\">\n",
       "      <th></th>\n",
       "      <th>0</th>\n",
       "      <th>1</th>\n",
       "      <th>2</th>\n",
       "      <th>3</th>\n",
       "    </tr>\n",
       "  </thead>\n",
       "  <tbody>\n",
       "    <tr>\n",
       "      <th>None</th>\n",
       "      <td>百万円</td>\n",
       "      <td>百万円</td>\n",
       "      <td>％</td>\n",
       "      <td>円銭</td>\n",
       "    </tr>\n",
       "    <tr>\n",
       "      <th>2022年3月期</th>\n",
       "      <td>130460</td>\n",
       "      <td>42174</td>\n",
       "      <td>32.7</td>\n",
       "      <td>3969.73</td>\n",
       "    </tr>\n",
       "    <tr>\n",
       "      <th>2021年3月期</th>\n",
       "      <td>116331</td>\n",
       "      <td>39975</td>\n",
       "      <td>34.7</td>\n",
       "      <td>3753.90</td>\n",
       "    </tr>\n",
       "    <tr>\n",
       "      <th>index</th>\n",
       "      <td>総資産</td>\n",
       "      <td>純資産</td>\n",
       "      <td>自己資本比率</td>\n",
       "      <td>1株当たり純資産</td>\n",
       "    </tr>\n",
       "  </tbody>\n",
       "</table>\n",
       "</div>"
      ],
      "text/plain": [
       "               0      1       2         3\n",
       "None         百万円    百万円       ％        円銭\n",
       "2022年3月期  130460  42174    32.7   3969.73\n",
       "2021年3月期  116331  39975    34.7   3753.90\n",
       "index        総資産    純資産  自己資本比率  1株当たり純資産"
      ]
     },
     "execution_count": 71,
     "metadata": {},
     "output_type": "execute_result"
    }
   ],
   "source": [
    "df1"
   ]
  },
  {
   "cell_type": "code",
   "execution_count": 83,
   "id": "774bc2bc",
   "metadata": {},
   "outputs": [
    {
     "data": {
      "text/plain": [
       "['xbrl_data/17240/20200213463368.htm',\n",
       " 'xbrl_data/17240/20210210461632.htm',\n",
       " 'xbrl_data/17240/20220214588928.htm',\n",
       " 'xbrl_data/22010/20190513424390.htm',\n",
       " 'xbrl_data/24890/20201105416794.htm',\n",
       " 'xbrl_data/34070/20190510420533.htm',\n",
       " 'xbrl_data/63610/20220512542868.htm',\n",
       " 'xbrl_data/65390/20210512412922.htm',\n",
       " 'xbrl_data/65390/20220511541079.htm',\n",
       " 'xbrl_data/88500/20211103423827.htm',\n",
       " 'xbrl_data/90310/20190206471170.htm',\n",
       " 'xbrl_data/93250/20191108422492.htm',\n",
       " 'xbrl_data/93250/20201113423946.htm',\n",
       " 'xbrl_data/93250/20211112433880.htm']"
      ]
     },
     "execution_count": 83,
     "metadata": {},
     "output_type": "execute_result"
    }
   ],
   "source": [
    "out_list"
   ]
  },
  {
   "cell_type": "code",
   "execution_count": 75,
   "id": "8c0afddb",
   "metadata": {},
   "outputs": [
    {
     "data": {
      "text/plain": [
       "name                            株式会社ＡＤワークスグループ\n",
       "class                                     不動産業\n",
       "SettlementDate                          12月31日\n",
       "end               2022年12月期第１四半期決算短信〔日本基準〕(連結)\n",
       "start             2020年12月期第１四半期決算短信〔日本基準〕(連結)\n",
       "Name: 29820, dtype: object"
      ]
     },
     "execution_count": 75,
     "metadata": {},
     "output_type": "execute_result"
    }
   ],
   "source": [
    "company.loc[29820]"
   ]
  },
  {
   "cell_type": "markdown",
   "id": "5388d667",
   "metadata": {},
   "source": [
    "# out_listの処理"
   ]
  },
  {
   "cell_type": "code",
   "execution_count": 124,
   "id": "63c1e59d",
   "metadata": {},
   "outputs": [
    {
     "name": "stdout",
     "output_type": "stream",
     "text": [
      "xbrl_data/24890/20201105416794.htm\n",
      "xbrl_data/63610/20220512542868.htm\n"
     ]
    }
   ],
   "source": [
    "for i in range(0,len(out_list)):\n",
    "    try:\n",
    "        out_csv='new2/xbrl_asset/{}/{}.csv'.format(out_list[i][10:15],out_list[i][16:-4])\n",
    "        dic = 'new2/xbrl_asset/{}'.format(out_list[i][10:15])\n",
    "        text=normalize_XBRL(out_list[i])\n",
    "        text,pre_term = text_tag(text)\n",
    "        text_list,non_text=create_text_list(text)\n",
    "        NoPredict_text=check_text(text_list,non_text)\n",
    "        table_list=create_table_list(text_list,col_dic)\n",
    "        column,number=create_list(table_list)\n",
    "        column_list,number = create_NoneAndCol(column,number)\n",
    "        index_list=create_index(number)\n",
    "        df1=create_DataFrame(number,index_list)\n",
    "        df1=create_df_column(df1,column_list)\n",
    "        \n",
    "        #フォルダを作成する\n",
    "        create_dic(dic)\n",
    "        df1.to_csv(out_csv)\n",
    "    except:\n",
    "        print(out_list[i])"
   ]
  },
  {
   "cell_type": "code",
   "execution_count": null,
   "id": "0898b9a3",
   "metadata": {},
   "outputs": [],
   "source": []
  },
  {
   "cell_type": "markdown",
   "id": "25b4e8d5",
   "metadata": {},
   "source": [
    "# 例外処理"
   ]
  },
  {
   "cell_type": "code",
   "execution_count": 143,
   "id": "e072ca0b",
   "metadata": {},
   "outputs": [],
   "source": [
    "path=\"xbrl_data/24890/20201105416794.htm\"\n",
    "#path=\"xbrl_data/63610/20220512542868.htm\""
   ]
  },
  {
   "cell_type": "code",
   "execution_count": 144,
   "id": "ecd013a5",
   "metadata": {},
   "outputs": [
    {
     "ename": "IndexError",
     "evalue": "list index out of range",
     "output_type": "error",
     "traceback": [
      "\u001b[0;31m---------------------------------------------------------------------------\u001b[0m",
      "\u001b[0;31mIndexError\u001b[0m                                Traceback (most recent call last)",
      "\u001b[0;32m/var/folders/qy/f6zr5vlj65lg32yldm97ynkw0000gn/T/ipykernel_82856/2445676621.py\u001b[0m in \u001b[0;36m<module>\u001b[0;34m\u001b[0m\n\u001b[1;32m      6\u001b[0m \u001b[0mcolumn\u001b[0m\u001b[0;34m,\u001b[0m\u001b[0mnumber\u001b[0m\u001b[0;34m=\u001b[0m\u001b[0mcreate_list\u001b[0m\u001b[0;34m(\u001b[0m\u001b[0mtable_list\u001b[0m\u001b[0;34m)\u001b[0m\u001b[0;34m\u001b[0m\u001b[0;34m\u001b[0m\u001b[0m\n\u001b[1;32m      7\u001b[0m \u001b[0mcolumn_list\u001b[0m\u001b[0;34m,\u001b[0m\u001b[0mnumber\u001b[0m \u001b[0;34m=\u001b[0m \u001b[0mcreate_NoneAndCol\u001b[0m\u001b[0;34m(\u001b[0m\u001b[0mcolumn\u001b[0m\u001b[0;34m,\u001b[0m\u001b[0mnumber\u001b[0m\u001b[0;34m)\u001b[0m\u001b[0;34m\u001b[0m\u001b[0;34m\u001b[0m\u001b[0m\n\u001b[0;32m----> 8\u001b[0;31m \u001b[0mindex_list\u001b[0m\u001b[0;34m=\u001b[0m\u001b[0mcreate_index\u001b[0m\u001b[0;34m(\u001b[0m\u001b[0mnumber\u001b[0m\u001b[0;34m)\u001b[0m\u001b[0;34m\u001b[0m\u001b[0;34m\u001b[0m\u001b[0m\n\u001b[0m\u001b[1;32m      9\u001b[0m \u001b[0mdf1\u001b[0m\u001b[0;34m=\u001b[0m\u001b[0mcreate_DataFrame\u001b[0m\u001b[0;34m(\u001b[0m\u001b[0mnumber\u001b[0m\u001b[0;34m,\u001b[0m\u001b[0mindex_list\u001b[0m\u001b[0;34m)\u001b[0m\u001b[0;34m\u001b[0m\u001b[0;34m\u001b[0m\u001b[0m\n\u001b[1;32m     10\u001b[0m \u001b[0;31m#df1=create_df_column(df1,column_list)\u001b[0m\u001b[0;34m\u001b[0m\u001b[0;34m\u001b[0m\u001b[0;34m\u001b[0m\u001b[0m\n",
      "\u001b[0;32m/var/folders/qy/f6zr5vlj65lg32yldm97ynkw0000gn/T/ipykernel_82856/2172506599.py\u001b[0m in \u001b[0;36mcreate_index\u001b[0;34m(number)\u001b[0m\n\u001b[1;32m      2\u001b[0m     \u001b[0mindex_list\u001b[0m\u001b[0;34m=\u001b[0m\u001b[0;34m[\u001b[0m\u001b[0;34m[\u001b[0m\u001b[0;34m]\u001b[0m\u001b[0;34m*\u001b[0m\u001b[0mi\u001b[0m \u001b[0;32mfor\u001b[0m \u001b[0mi\u001b[0m \u001b[0;32min\u001b[0m \u001b[0mrange\u001b[0m\u001b[0;34m(\u001b[0m\u001b[0;36m0\u001b[0m\u001b[0;34m,\u001b[0m\u001b[0mlen\u001b[0m\u001b[0;34m(\u001b[0m\u001b[0mnumber\u001b[0m\u001b[0;34m)\u001b[0m\u001b[0;34m)\u001b[0m\u001b[0;34m]\u001b[0m\u001b[0;34m\u001b[0m\u001b[0;34m\u001b[0m\u001b[0m\n\u001b[1;32m      3\u001b[0m     \u001b[0min_cnt\u001b[0m\u001b[0;34m=\u001b[0m\u001b[0;36m0\u001b[0m\u001b[0;34m\u001b[0m\u001b[0;34m\u001b[0m\u001b[0m\n\u001b[0;32m----> 4\u001b[0;31m     \u001b[0mindex_list\u001b[0m\u001b[0;34m[\u001b[0m\u001b[0min_cnt\u001b[0m\u001b[0;34m]\u001b[0m\u001b[0;34m.\u001b[0m\u001b[0mappend\u001b[0m\u001b[0;34m(\u001b[0m\u001b[0;34m\"None\"\u001b[0m\u001b[0;34m)\u001b[0m\u001b[0;34m\u001b[0m\u001b[0;34m\u001b[0m\u001b[0m\n\u001b[0m\u001b[1;32m      5\u001b[0m \u001b[0;34m\u001b[0m\u001b[0m\n\u001b[1;32m      6\u001b[0m     \u001b[0;32mfor\u001b[0m \u001b[0mi\u001b[0m \u001b[0;32min\u001b[0m \u001b[0mrange\u001b[0m\u001b[0;34m(\u001b[0m\u001b[0;36m1\u001b[0m\u001b[0;34m,\u001b[0m\u001b[0mlen\u001b[0m\u001b[0;34m(\u001b[0m\u001b[0mnumber\u001b[0m\u001b[0;34m)\u001b[0m\u001b[0;34m)\u001b[0m\u001b[0;34m:\u001b[0m\u001b[0;34m\u001b[0m\u001b[0;34m\u001b[0m\u001b[0m\n",
      "\u001b[0;31mIndexError\u001b[0m: list index out of range"
     ]
    }
   ],
   "source": [
    "text=normalize_XBRL(path)\n",
    "text,pre_term = text_tag(text)\n",
    "text_list,non_text=create_text_list(text)\n",
    "NoPredict_text=check_text(text_list,non_text)\n",
    "table_list=create_table_list(text_list,col_dic)\n",
    "column,number=create_list(table_list)\n",
    "column_list,number = create_NoneAndCol(column,number)\n",
    "index_list=create_index(number)\n",
    "df1=create_DataFrame(number,index_list)\n",
    "#df1=create_df_column(df1,column_list)"
   ]
  },
  {
   "cell_type": "code",
   "execution_count": 147,
   "id": "37d2f318",
   "metadata": {},
   "outputs": [],
   "source": [
    "n=[\"百万円\",\"百万円\",\"％\",\"円銭\"]\n",
    "n1=[20474,12991,62.4,307.42]\n",
    "n2=[18986,12448,64.6,294.90]\n",
    "column=[\"総資産\",\"純資産\",\"自己資本比率\",\"1株当たり純資産\"]"
   ]
  },
  {
   "cell_type": "code",
   "execution_count": 148,
   "id": "9a96479f",
   "metadata": {},
   "outputs": [],
   "source": [
    "df1=pd.DataFrame([n,n1,n2,column],index=[\"None\",\"2021年3月期第2四半期\",\"2020年3月期\",\"column\"])"
   ]
  },
  {
   "cell_type": "code",
   "execution_count": 149,
   "id": "4d64cfe5",
   "metadata": {},
   "outputs": [
    {
     "data": {
      "text/html": [
       "<div>\n",
       "<style scoped>\n",
       "    .dataframe tbody tr th:only-of-type {\n",
       "        vertical-align: middle;\n",
       "    }\n",
       "\n",
       "    .dataframe tbody tr th {\n",
       "        vertical-align: top;\n",
       "    }\n",
       "\n",
       "    .dataframe thead th {\n",
       "        text-align: right;\n",
       "    }\n",
       "</style>\n",
       "<table border=\"1\" class=\"dataframe\">\n",
       "  <thead>\n",
       "    <tr style=\"text-align: right;\">\n",
       "      <th></th>\n",
       "      <th>0</th>\n",
       "      <th>1</th>\n",
       "      <th>2</th>\n",
       "      <th>3</th>\n",
       "    </tr>\n",
       "  </thead>\n",
       "  <tbody>\n",
       "    <tr>\n",
       "      <th>None</th>\n",
       "      <td>百万円</td>\n",
       "      <td>百万円</td>\n",
       "      <td>％</td>\n",
       "      <td>円銭</td>\n",
       "    </tr>\n",
       "    <tr>\n",
       "      <th>2021年3月期第2四半期</th>\n",
       "      <td>20474</td>\n",
       "      <td>12991</td>\n",
       "      <td>62.4</td>\n",
       "      <td>307.42</td>\n",
       "    </tr>\n",
       "    <tr>\n",
       "      <th>2020年3月期</th>\n",
       "      <td>18986</td>\n",
       "      <td>12448</td>\n",
       "      <td>64.6</td>\n",
       "      <td>294.9</td>\n",
       "    </tr>\n",
       "    <tr>\n",
       "      <th>column</th>\n",
       "      <td>総資産</td>\n",
       "      <td>純資産</td>\n",
       "      <td>自己資本比率</td>\n",
       "      <td>1株当たり純資産</td>\n",
       "    </tr>\n",
       "  </tbody>\n",
       "</table>\n",
       "</div>"
      ],
      "text/plain": [
       "                   0      1       2         3\n",
       "None             百万円    百万円       ％        円銭\n",
       "2021年3月期第2四半期  20474  12991    62.4    307.42\n",
       "2020年3月期       18986  12448    64.6     294.9\n",
       "column           総資産    純資産  自己資本比率  1株当たり純資産"
      ]
     },
     "execution_count": 149,
     "metadata": {},
     "output_type": "execute_result"
    }
   ],
   "source": [
    "df1"
   ]
  },
  {
   "cell_type": "code",
   "execution_count": 150,
   "id": "3c838d7c",
   "metadata": {},
   "outputs": [],
   "source": [
    "out_csv='new2/xbrl_asset/24890/20201105416794.csv'\n",
    "df1.to_csv(out_csv)"
   ]
  },
  {
   "cell_type": "code",
   "execution_count": 77,
   "id": "34a289a0",
   "metadata": {},
   "outputs": [
    {
     "name": "stderr",
     "output_type": "stream",
     "text": [
      "100%|█████████████████████████████████████| 2972/2972 [00:01<00:00, 1514.82it/s]\n"
     ]
    }
   ],
   "source": [
    "non_com=[]\n",
    "for i in tqdm.tqdm(range(0,len(company.index))):\n",
    "    try:\n",
    "        dic = 'new2/xbrl_asset/{}'.format(company.index[i])\n",
    "        df = pd.read_csv(\"new2/df_sum/this/{}.csv\".format(company.index[i]),encoding=\"cp932\")\n",
    "        #フォルダを作成する\n",
    "        create_dic(dic)\n",
    "    except:\n",
    "        non_com.append(company.index[i])"
   ]
  },
  {
   "cell_type": "code",
   "execution_count": 79,
   "id": "d8f9c9fc",
   "metadata": {},
   "outputs": [
    {
     "data": {
      "text/plain": [
       "name                                    黒谷株式会社\n",
       "class                                      卸売業\n",
       "SettlementDate                            8月末日\n",
       "end               2022年８月期　第２四半期決算短信〔日本基準〕（連結）\n",
       "start             平成29年８月期　第３四半期決算短信〔日本基準〕（連結）\n",
       "Name: 31680, dtype: object"
      ]
     },
     "execution_count": 79,
     "metadata": {},
     "output_type": "execute_result"
    }
   ],
   "source": [
    "company.loc[non_com[1]]"
   ]
  },
  {
   "cell_type": "code",
   "execution_count": 80,
   "id": "53263f04",
   "metadata": {},
   "outputs": [
    {
     "data": {
      "text/plain": [
       "[29820,\n",
       " 31680,\n",
       " 32710,\n",
       " 35530,\n",
       " 39990,\n",
       " 47220,\n",
       " 49670,\n",
       " 56030,\n",
       " 65880,\n",
       " 67860,\n",
       " 73390,\n",
       " 74850,\n",
       " 83030,\n",
       " 94680]"
      ]
     },
     "execution_count": 80,
     "metadata": {},
     "output_type": "execute_result"
    }
   ],
   "source": [
    "non_com"
   ]
  },
  {
   "cell_type": "code",
   "execution_count": null,
   "id": "a5ba0284",
   "metadata": {},
   "outputs": [],
   "source": []
  }
 ],
 "metadata": {
  "kernelspec": {
   "display_name": "Python 3 (ipykernel)",
   "language": "python",
   "name": "python3"
  },
  "language_info": {
   "codemirror_mode": {
    "name": "ipython",
    "version": 3
   },
   "file_extension": ".py",
   "mimetype": "text/x-python",
   "name": "python",
   "nbconvert_exporter": "python",
   "pygments_lexer": "ipython3",
   "version": "3.8.8"
  }
 },
 "nbformat": 4,
 "nbformat_minor": 5
}
